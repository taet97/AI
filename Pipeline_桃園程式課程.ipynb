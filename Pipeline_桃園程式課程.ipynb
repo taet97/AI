{
  "nbformat": 4,
  "nbformat_minor": 0,
  "metadata": {
    "colab": {
      "provenance": [],
      "authorship_tag": "ABX9TyMcGvm9qH4eYLhBeA4egOlJ",
      "include_colab_link": true
    },
    "kernelspec": {
      "name": "python3",
      "display_name": "Python 3"
    },
    "language_info": {
      "name": "python"
    }
  },
  "cells": [
    {
      "cell_type": "markdown",
      "metadata": {
        "id": "view-in-github",
        "colab_type": "text"
      },
      "source": [
        "<a href=\"https://colab.research.google.com/github/shhuangmust/AI/blob/112-2/Pipeline_%E6%A1%83%E5%9C%92%E7%A8%8B%E5%BC%8F%E8%AA%B2%E7%A8%8B.ipynb\" target=\"_parent\"><img src=\"https://colab.research.google.com/assets/colab-badge.svg\" alt=\"Open In Colab\"/></a>"
      ]
    },
    {
      "cell_type": "markdown",
      "source": [
        "## 利用Huggingface Pipeline進行自然語言處理\n",
        "\n",
        "目前可用的一些pipeline是：\n",
        "- 文字摘要\n",
        "- 文字生成\n",
        "- 翻譯\n",
        "- 零樣本分類\n",
        "- 填充空缺\n",
        "- ner（命名實體識別）\n",
        "- 問答\n",
        "- 情感分析\n"
      ],
      "metadata": {
        "id": "q50cGMa-5Fe4"
      }
    },
    {
      "cell_type": "code",
      "execution_count": 1,
      "metadata": {
        "colab": {
          "base_uri": "https://localhost:8080/"
        },
        "id": "XdQLo38F5AUy",
        "outputId": "fc28e4d2-b4c8-4938-c400-f4af677299d2"
      },
      "outputs": [
        {
          "output_type": "stream",
          "name": "stdout",
          "text": [
            "Requirement already satisfied: transformers in /usr/local/lib/python3.10/dist-packages (4.41.2)\n",
            "Requirement already satisfied: filelock in /usr/local/lib/python3.10/dist-packages (from transformers) (3.14.0)\n",
            "Requirement already satisfied: huggingface-hub<1.0,>=0.23.0 in /usr/local/lib/python3.10/dist-packages (from transformers) (0.23.2)\n",
            "Requirement already satisfied: numpy>=1.17 in /usr/local/lib/python3.10/dist-packages (from transformers) (1.25.2)\n",
            "Requirement already satisfied: packaging>=20.0 in /usr/local/lib/python3.10/dist-packages (from transformers) (24.0)\n",
            "Requirement already satisfied: pyyaml>=5.1 in /usr/local/lib/python3.10/dist-packages (from transformers) (6.0.1)\n",
            "Requirement already satisfied: regex!=2019.12.17 in /usr/local/lib/python3.10/dist-packages (from transformers) (2024.5.15)\n",
            "Requirement already satisfied: requests in /usr/local/lib/python3.10/dist-packages (from transformers) (2.31.0)\n",
            "Requirement already satisfied: tokenizers<0.20,>=0.19 in /usr/local/lib/python3.10/dist-packages (from transformers) (0.19.1)\n",
            "Requirement already satisfied: safetensors>=0.4.1 in /usr/local/lib/python3.10/dist-packages (from transformers) (0.4.3)\n",
            "Requirement already satisfied: tqdm>=4.27 in /usr/local/lib/python3.10/dist-packages (from transformers) (4.66.4)\n",
            "Requirement already satisfied: fsspec>=2023.5.0 in /usr/local/lib/python3.10/dist-packages (from huggingface-hub<1.0,>=0.23.0->transformers) (2023.6.0)\n",
            "Requirement already satisfied: typing-extensions>=3.7.4.3 in /usr/local/lib/python3.10/dist-packages (from huggingface-hub<1.0,>=0.23.0->transformers) (4.12.1)\n",
            "Requirement already satisfied: charset-normalizer<4,>=2 in /usr/local/lib/python3.10/dist-packages (from requests->transformers) (3.3.2)\n",
            "Requirement already satisfied: idna<4,>=2.5 in /usr/local/lib/python3.10/dist-packages (from requests->transformers) (3.7)\n",
            "Requirement already satisfied: urllib3<3,>=1.21.1 in /usr/local/lib/python3.10/dist-packages (from requests->transformers) (2.0.7)\n",
            "Requirement already satisfied: certifi>=2017.4.17 in /usr/local/lib/python3.10/dist-packages (from requests->transformers) (2024.6.2)\n"
          ]
        }
      ],
      "source": [
        "# 安裝Huggingface的transformer套件\n",
        "!pip install transformers -U"
      ]
    },
    {
      "cell_type": "markdown",
      "source": [
        "## 安裝pipeline套件"
      ],
      "metadata": {
        "id": "kJnM8esmB_va"
      }
    },
    {
      "cell_type": "code",
      "source": [
        "# 安裝pipeline套件\n",
        "from transformers import pipeline"
      ],
      "metadata": {
        "id": "ohp0lFa6CEyq"
      },
      "execution_count": 23,
      "outputs": []
    },
    {
      "cell_type": "markdown",
      "source": [
        "## 情感分析\n",
        "- 判斷語言是正向，還是負向"
      ],
      "metadata": {
        "id": "1ZxqClf-8iLb"
      }
    },
    {
      "cell_type": "code",
      "source": [
        "# sentiment-analysis為情感分析功能\n",
        "classifier = pipeline(\"sentiment-analysis\")\n",
        "classifier(\"你敢出去玩試看看\")"
      ],
      "metadata": {
        "colab": {
          "base_uri": "https://localhost:8080/"
        },
        "id": "M-6U87118fP9",
        "outputId": "e95781fe-97fa-475d-a47a-1e5e0d9d1805"
      },
      "execution_count": 24,
      "outputs": [
        {
          "output_type": "stream",
          "name": "stderr",
          "text": [
            "No model was supplied, defaulted to distilbert/distilbert-base-uncased-finetuned-sst-2-english and revision af0f99b (https://huggingface.co/distilbert/distilbert-base-uncased-finetuned-sst-2-english).\n",
            "Using a pipeline without specifying a model name and revision in production is not recommended.\n"
          ]
        },
        {
          "output_type": "execute_result",
          "data": {
            "text/plain": [
              "[{'label': 'NEGATIVE', 'score': 0.8599118590354919}]"
            ]
          },
          "metadata": {},
          "execution_count": 24
        }
      ]
    },
    {
      "cell_type": "code",
      "source": [
        "# 同時判斷多句\n",
        "classifier(\n",
        "    [\"我覺得東西不好吃\", \"I love this cake\"]\n",
        ")"
      ],
      "metadata": {
        "colab": {
          "base_uri": "https://localhost:8080/"
        },
        "id": "hkzWd7S48-R5",
        "outputId": "99206938-4469-48c8-f10c-67aebf69655d"
      },
      "execution_count": 25,
      "outputs": [
        {
          "output_type": "execute_result",
          "data": {
            "text/plain": [
              "[{'label': 'NEGATIVE', 'score': 0.8526802659034729},\n",
              " {'label': 'POSITIVE', 'score': 0.9998714923858643}]"
            ]
          },
          "metadata": {},
          "execution_count": 25
        }
      ]
    },
    {
      "cell_type": "markdown",
      "source": [
        "## 零樣本分類\n",
        "- 對沒有訓練過的文字進行分類\n",
        "- 可指定分類"
      ],
      "metadata": {
        "id": "7bA-6hLj90ob"
      }
    },
    {
      "cell_type": "code",
      "source": [
        "# zero-shot-classification 為零樣本分類功能\n",
        "classifier = pipeline(\"zero-shot-classification\")\n",
        "classifier(\n",
        "    \"你敢出去玩試看看\",\n",
        "    candidate_labels=[\"出門\", \"留在家\", \"再問一次\"],\n",
        ")"
      ],
      "metadata": {
        "colab": {
          "base_uri": "https://localhost:8080/"
        },
        "id": "C0WQs0nd9TlJ",
        "outputId": "d7ed2c8a-4253-4484-e3c2-c8c3c4ed7b8a"
      },
      "execution_count": 26,
      "outputs": [
        {
          "output_type": "stream",
          "name": "stderr",
          "text": [
            "No model was supplied, defaulted to facebook/bart-large-mnli and revision c626438 (https://huggingface.co/facebook/bart-large-mnli).\n",
            "Using a pipeline without specifying a model name and revision in production is not recommended.\n",
            "/usr/local/lib/python3.10/dist-packages/huggingface_hub/file_download.py:1132: FutureWarning: `resume_download` is deprecated and will be removed in version 1.0.0. Downloads always resume when possible. If you want to force a new download, use `force_download=True`.\n",
            "  warnings.warn(\n"
          ]
        },
        {
          "output_type": "execute_result",
          "data": {
            "text/plain": [
              "{'sequence': '你敢出去玩試看看',\n",
              " 'labels': ['出門', '再問一次', '留在家'],\n",
              " 'scores': [0.35582491755485535, 0.34951213002204895, 0.2946630120277405]}"
            ]
          },
          "metadata": {},
          "execution_count": 26
        }
      ]
    },
    {
      "cell_type": "markdown",
      "source": [
        "## 文字生成\n",
        "- 寫一段文字，接下來文字接龍"
      ],
      "metadata": {
        "id": "OtOpZI07-Y0M"
      }
    },
    {
      "cell_type": "code",
      "source": [
        "# text-generation為文字生成功能\n",
        "generator = pipeline(\"text-generation\")\n",
        "generator(\"我等一下要去\", num_return_sequences = 1, max_length = 60)"
      ],
      "metadata": {
        "colab": {
          "base_uri": "https://localhost:8080/"
        },
        "id": "-YhE4ExM-F42",
        "outputId": "cdb5b050-6b1f-4f96-adff-1c6981d5df0b"
      },
      "execution_count": 27,
      "outputs": [
        {
          "output_type": "stream",
          "name": "stderr",
          "text": [
            "No model was supplied, defaulted to openai-community/gpt2 and revision 6c0e608 (https://huggingface.co/openai-community/gpt2).\n",
            "Using a pipeline without specifying a model name and revision in production is not recommended.\n",
            "Truncation was not explicitly activated but `max_length` is provided a specific value, please use `truncation=True` to explicitly truncate examples to max length. Defaulting to 'longest_first' truncation strategy. If you encode pairs of sequences (GLUE-style) with the tokenizer you can select this strategy more precisely by providing a specific strategy to `truncation`.\n",
            "Setting `pad_token_id` to `eos_token_id`:50256 for open-end generation.\n"
          ]
        },
        {
          "output_type": "execute_result",
          "data": {
            "text/plain": [
              "[{'generated_text': '我等一下要去景銀,才能灯對平语翻就译可以说明你和还种众�'}]"
            ]
          },
          "metadata": {},
          "execution_count": 27
        }
      ]
    },
    {
      "cell_type": "markdown",
      "source": [
        "## 問答系統\n",
        "- 給定上下文，然後問問題，讓系統回答"
      ],
      "metadata": {
        "id": "zXOArXrY-2QU"
      }
    },
    {
      "cell_type": "code",
      "source": [
        "# question-answering為問答功能\n",
        "question_answerer = pipeline(\"question-answering\", model=\"ckiplab/bert-base-chinese-qa\")\n",
        "question_answerer(\n",
        "    context=\"黃小明參加大甲鎮瀾宮繞境\",\n",
        "    question=\"黃小明參加甚麼活動?\",\n",
        ")"
      ],
      "metadata": {
        "colab": {
          "base_uri": "https://localhost:8080/"
        },
        "id": "wvZ4GfDz-lLG",
        "outputId": "d5f6baba-a4a3-4dc9-b969-fc192e4e7088"
      },
      "execution_count": 28,
      "outputs": [
        {
          "output_type": "execute_result",
          "data": {
            "text/plain": [
              "{'score': 0.0001248956541530788, 'start': 5, 'end': 10, 'answer': '大甲鎮瀾宮'}"
            ]
          },
          "metadata": {},
          "execution_count": 28
        }
      ]
    },
    {
      "cell_type": "markdown",
      "source": [
        "## 摘要"
      ],
      "metadata": {
        "id": "Zl7GBbmE_JKx"
      }
    },
    {
      "cell_type": "code",
      "source": [
        "# summarization為摘要功能\n",
        "summarizer = pipeline(\"summarization\", max_length=56)\n",
        "summarizer(\n",
        "    \"\"\"\n",
        "    Moby Dick is an 1851 novel by American writer Herman Melville.\n",
        "    The book is the sailor Ishmael's narrative of the maniacal quest of Ahab,\n",
        "    captain of the whaling ship Pequod, for vengeance against Moby Dick,\n",
        "    the giant white sperm whale that bit off his leg on the ship's previous voyage.\n",
        "    \"\"\"\n",
        ")"
      ],
      "metadata": {
        "colab": {
          "base_uri": "https://localhost:8080/"
        },
        "id": "ixsSkwP3_BUf",
        "outputId": "383ba550-7d08-45ae-e1ae-7e35f0f011db"
      },
      "execution_count": 29,
      "outputs": [
        {
          "output_type": "stream",
          "name": "stderr",
          "text": [
            "No model was supplied, defaulted to sshleifer/distilbart-cnn-12-6 and revision a4f8f3e (https://huggingface.co/sshleifer/distilbart-cnn-12-6).\n",
            "Using a pipeline without specifying a model name and revision in production is not recommended.\n"
          ]
        },
        {
          "output_type": "execute_result",
          "data": {
            "text/plain": [
              "[{'summary_text': \" Herman Melville's 1851 novel is the tale of the maniacal quest of Ahab, the captain of the whaling ship Pequod, for vengeance against Moby Dick . The book is the sailor Ishmael's narrative of the crazed quest of\"}]"
            ]
          },
          "metadata": {},
          "execution_count": 29
        }
      ]
    },
    {
      "cell_type": "markdown",
      "source": [
        "## 翻譯\n",
        "- 提供類似中翻英的翻譯"
      ],
      "metadata": {
        "id": "n5uXJcCDApBU"
      }
    },
    {
      "cell_type": "code",
      "source": [
        "# translation為翻譯功能\n",
        "translator = pipeline(\"translation\", model=\"DunnBC22/opus-mt-zh-en-Chinese_to_English\")\n",
        "translator(\"我參加明新科技大學的程式訓練課程\")"
      ],
      "metadata": {
        "colab": {
          "base_uri": "https://localhost:8080/"
        },
        "id": "X_8UQF20_Thp",
        "outputId": "7b7c6ab0-2c37-4626-8065-2f226d0e4337"
      },
      "execution_count": 30,
      "outputs": [
        {
          "output_type": "stream",
          "name": "stderr",
          "text": [
            "/usr/local/lib/python3.10/dist-packages/transformers/models/marian/tokenization_marian.py:175: UserWarning: Recommended: pip install sacremoses.\n",
            "  warnings.warn(\"Recommended: pip install sacremoses.\")\n"
          ]
        },
        {
          "output_type": "execute_result",
          "data": {
            "text/plain": [
              "[{'translation_text': '\"I\\'m in a program training course at the University of New Technologies.\", \\'zh\\': \\'\\'}'}]"
            ]
          },
          "metadata": {},
          "execution_count": 30
        }
      ]
    },
    {
      "cell_type": "code",
      "source": [],
      "metadata": {
        "id": "sZyST5fYA7Sj"
      },
      "execution_count": null,
      "outputs": []
    }
  ]
}